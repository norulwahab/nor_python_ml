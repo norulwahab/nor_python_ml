{
  "cells": [
    {
      "cell_type": "markdown",
      "metadata": {
        "id": "view-in-github",
        "colab_type": "text"
      },
      "source": [
        "<a href=\"https://colab.research.google.com/github/norulwahab/nor_python_ml/blob/main/Malaria_model_Callbacks.ipynb\" target=\"_parent\"><img src=\"https://colab.research.google.com/assets/colab-badge.svg\" alt=\"Open In Colab\"/></a>"
      ]
    },
    {
      "cell_type": "code",
      "execution_count": 62,
      "metadata": {
        "id": "uhdAv4UVjLLe"
      },
      "outputs": [],
      "source": [
        "import os\n",
        "import tensorflow as tf\n",
        "import numpy as np\n",
        "import matplotlib.pyplot as plt\n",
        "import tensorflow_datasets as tfds\n",
        "from tensorflow.keras.models import Model\n",
        "from tensorflow.keras.layers import Layer\n",
        "from tensorflow.keras.layers import Conv2D,MaxPooling2D,Dense,Flatten, InputLayer,BatchNormalization, Input\n",
        "from tensorflow.keras.losses import BinaryCrossentropy\n",
        "from tensorflow.keras.optimizers import Adam\n",
        "from tensorflow.keras.callbacks import Callback, CSVLogger, EarlyStopping, LearningRateScheduler, ModelCheckpoint,ReduceLROnPlateau\n",
        "import sklearn\n",
        "from sklearn.metrics import confusion_matrix, roc_curve\n",
        "import seaborn as sns\n",
        "from tensorflow.keras.metrics import BinaryAccuracy, FalseNegatives,FalsePositives, TruePositives, TrueNegatives, Recall, Precision, AUC"
      ]
    },
    {
      "cell_type": "code",
      "execution_count": 2,
      "metadata": {
        "colab": {
          "base_uri": "https://localhost:8080/",
          "height": 352,
          "referenced_widgets": [
            "09c85375ba8f466eb42ad0696e256c97",
            "29efcdf24ffc4b9d89fb6b0a9004b61a",
            "c5b138f581324cd7a2610c29acc5eea7",
            "50fd1f3bcb1446909ac82e0c56825e57",
            "8ffb525ce5fe44e4b5a8c7ca2a85393d",
            "29f9d69309f642ca959ed910c512cdde",
            "6d9c077386c34e288aba12a75601e10b",
            "3e801ba43ec0481389b0e6b94cc4ee63",
            "4378116bd63d4b698e1f9cd0548517dd",
            "0cd3e049f5e84e7981cc4079d3521fac",
            "9dc9bd206119464bae7dbe8ae1ebad31",
            "cd3c2ed29c4441688f95e4a82ca3d290",
            "9cf5dc327cb24953a8f52674ebbfcda2",
            "797e9d52b3f44f208a5111ff0a4ec742",
            "ae333c40fc354148b33c03a85039c08b",
            "2904903fac1f4ad5b9f80741549d1435",
            "429915fd2a134483b13466848e8c7f6d",
            "066353c1803c48a29b30ea41d0d6e3ac",
            "1548ecae72164b4db1548438d9939cbc",
            "96ae6ecde0b24c2aa7e0f41ef2b08d29",
            "ce7a52c250d948b8ad108430e4ce7823",
            "d0051386ba2248ee9d0e603aa6614e7b",
            "47e1e99ba0b84772a6126286b824e8cf",
            "4945756aabdd48a7aa6cf9feb03aa727",
            "0ce33f5706a3420b9634b06bdb1be5eb",
            "b8702a1d80da4124970c4c21c4a734a3",
            "a87b58fd3632431589686bc329dbd379",
            "fa0aa0f007f0437db59e2d5291dd4319",
            "29356a6704ab4dbc9add1c8d7f81a8d4",
            "e5c618911a5b45a9aef5e93165d0d884",
            "81b956d27c8c46588fcdb5605b69fad8",
            "e5fb3f85c1084fe9a246d7febeceee3d",
            "cf9ae75031dc4062829fb64f30b8e4f1",
            "a84b1e7e6dec4fa19ce915d95193c44e",
            "bbbf39b23d4a47cd84cdc4e1b8f8422d",
            "ab802be78a1946059a201837f511d407",
            "ce8f49ca9e0e4895988c65246c7ce8e1",
            "bf7364401c924adfb930fb7fa4ec30e0",
            "1ec00fac84d04aeab0ed28efa2ccbe64",
            "e05b7582162945248d9427904eb801b9",
            "b4a6985ab0334b26bc0b7c39f09102d1",
            "015830740c5d48ac8cf578dff07f9bbc",
            "7fa1d41885f3443eb5bbb2625799bf02",
            "172e8cabf9714d3f9ab25ae70ff79240",
            "04b2d1cbcded4addad0cafd33dc92a83",
            "a8a4d8868f5e43c8b2bc8ae18804ebf9",
            "dd2a708095054ff58a6b73e9d89ff484",
            "0f17cecbf24b40c689d9262fc9d3e55a",
            "afa8c4abdb2c4e458cf9d09f352c1058",
            "03231b40705342f3889244351e3021ca",
            "a9bd1133b87645ab81a57eaf20d5bb2f",
            "732ecb8285184cd68d31c64f39512bef",
            "69829145b8564a58b71fbac7b323aa79",
            "53e8da7fb31f49fab27a1e1ddf97cefc",
            "49170c13a3f44368a94207ccaed38888",
            "bf3196b951ff4911b87af67d8c0d7d5e",
            "2fa229da0159440fbb01d38adc95fe33",
            "b4d190311d6e4d95b425031f366881f2",
            "dd4bba7705fa41b4bde46237038fc20b",
            "32476212f3e0416cb92b1116279a00e4",
            "675e123ad5e7416599965b6135b9ca17",
            "6eb8a19a5aa74f9b9a15f25f1dbf99d7",
            "ad2437d986bb4f0eb33145092a24f244",
            "8f37a52aa1f047ed8c9894e28b5c4550",
            "15d8eeec29804df1bda7ac10f9422eab",
            "0e6767cfdbe84b62af3ac711d809341d"
          ]
        },
        "id": "-2kzZCLcjw3G",
        "outputId": "d228f2d6-f919-40e9-e0a3-74b8f48d3978"
      },
      "outputs": [
        {
          "output_type": "stream",
          "name": "stdout",
          "text": [
            "Downloading and preparing dataset 337.08 MiB (download: 337.08 MiB, generated: Unknown size, total: 337.08 MiB) to /root/tensorflow_datasets/malaria/1.0.0...\n"
          ]
        },
        {
          "output_type": "display_data",
          "data": {
            "text/plain": [
              "Dl Completed...: 0 url [00:00, ? url/s]"
            ],
            "application/vnd.jupyter.widget-view+json": {
              "version_major": 2,
              "version_minor": 0,
              "model_id": "09c85375ba8f466eb42ad0696e256c97"
            }
          },
          "metadata": {}
        },
        {
          "output_type": "display_data",
          "data": {
            "text/plain": [
              "Dl Size...: 0 MiB [00:00, ? MiB/s]"
            ],
            "application/vnd.jupyter.widget-view+json": {
              "version_major": 2,
              "version_minor": 0,
              "model_id": "cd3c2ed29c4441688f95e4a82ca3d290"
            }
          },
          "metadata": {}
        },
        {
          "output_type": "display_data",
          "data": {
            "text/plain": [
              "Extraction completed...: 0 file [00:00, ? file/s]"
            ],
            "application/vnd.jupyter.widget-view+json": {
              "version_major": 2,
              "version_minor": 0,
              "model_id": "47e1e99ba0b84772a6126286b824e8cf"
            }
          },
          "metadata": {}
        },
        {
          "output_type": "stream",
          "name": "stderr",
          "text": [
            "IOPub message rate exceeded.\n",
            "The notebook server will temporarily stop sending output\n",
            "to the client in order to avoid crashing it.\n",
            "To change this limit, set the config variable\n",
            "`--NotebookApp.iopub_msg_rate_limit`.\n",
            "\n",
            "Current values:\n",
            "NotebookApp.iopub_msg_rate_limit=1000.0 (msgs/sec)\n",
            "NotebookApp.rate_limit_window=3.0 (secs)\n",
            "\n"
          ]
        },
        {
          "output_type": "display_data",
          "data": {
            "text/plain": [
              "Generating splits...:   0%|          | 0/1 [00:00<?, ? splits/s]"
            ],
            "application/vnd.jupyter.widget-view+json": {
              "version_major": 2,
              "version_minor": 0,
              "model_id": "a84b1e7e6dec4fa19ce915d95193c44e"
            }
          },
          "metadata": {}
        },
        {
          "output_type": "display_data",
          "data": {
            "text/plain": [
              "Generating train examples...:   0%|          | 0/27558 [00:00<?, ? examples/s]"
            ],
            "application/vnd.jupyter.widget-view+json": {
              "version_major": 2,
              "version_minor": 0,
              "model_id": "04b2d1cbcded4addad0cafd33dc92a83"
            }
          },
          "metadata": {}
        },
        {
          "output_type": "display_data",
          "data": {
            "text/plain": [
              "Shuffling /root/tensorflow_datasets/malaria/1.0.0.incompleteMOJYOF/malaria-train.tfrecord*...:   0%|          …"
            ],
            "application/vnd.jupyter.widget-view+json": {
              "version_major": 2,
              "version_minor": 0,
              "model_id": "bf3196b951ff4911b87af67d8c0d7d5e"
            }
          },
          "metadata": {}
        },
        {
          "output_type": "stream",
          "name": "stdout",
          "text": [
            "Dataset malaria downloaded and prepared to /root/tensorflow_datasets/malaria/1.0.0. Subsequent calls will reuse this data.\n"
          ]
        }
      ],
      "source": [
        "dataset, dataset_info=tfds.load('malaria',with_info=True, as_supervised=True,shuffle_files=True, split=['train'])"
      ]
    },
    {
      "cell_type": "code",
      "execution_count": 3,
      "metadata": {
        "id": "7nixWYl9lL4J"
      },
      "outputs": [],
      "source": [
        "def splits(dataset, TRAIN_RATIO,VAL_RATIO,TEST_RATIO):\n",
        "  DATASET_SIZE = len(dataset)\n",
        "  train_dataset = dataset.take(int(TRAIN_RATIO*DATASET_SIZE))\n",
        "\n",
        "  val_test_dataset = dataset.skip(int(TRAIN_RATIO*DATASET_SIZE))\n",
        "  val_dataset = val_test_dataset.take(int(VAL_RATIO*DATASET_SIZE))\n",
        "\n",
        "  test_dataset = val_test_dataset.skip(int(VAL_RATIO*DATASET_SIZE))\n",
        "\n",
        "  return train_dataset,val_dataset,test_dataset"
      ]
    },
    {
      "cell_type": "code",
      "execution_count": 4,
      "metadata": {
        "id": "s0upy7cNkhyx"
      },
      "outputs": [],
      "source": [
        "TRAIN_RATIO = 0.8\n",
        "VAL_RATIO = 0.1\n",
        "TEST_RATIO = 0.1\n",
        "\n",
        "train_dataset,val_dataset,test_dataset = splits(dataset[0],TRAIN_RATIO,VAL_RATIO,TEST_RATIO)\n"
      ]
    },
    {
      "cell_type": "markdown",
      "metadata": {
        "id": "mNlpm8LTXRNU"
      },
      "source": [
        "##Data Visualization"
      ]
    },
    {
      "cell_type": "code",
      "execution_count": 5,
      "metadata": {
        "id": "8xlmfuUVXO9Z"
      },
      "outputs": [],
      "source": [
        "#for i, (image, label) in enumerate(train_dataset.take(20)):\n",
        "#  plt.subplot(4,5,i+1)\n",
        "#  plt.imshow(image)\n",
        " # plt.title(dataset_info.features['label'].int2str(label))\n",
        "  #plt.axis('off')"
      ]
    },
    {
      "cell_type": "markdown",
      "metadata": {
        "id": "Wt2CYUlxbEjt"
      },
      "source": [
        "##Processing\n"
      ]
    },
    {
      "cell_type": "code",
      "execution_count": 6,
      "metadata": {
        "id": "rqZaWWRoXBGZ"
      },
      "outputs": [],
      "source": [
        "IMAGE_SIZE=224\n",
        "def resize_rescale(image,label):\n",
        "  return tf.image.resize(image, (IMAGE_SIZE,IMAGE_SIZE))/255.0,label"
      ]
    },
    {
      "cell_type": "code",
      "execution_count": 7,
      "metadata": {
        "id": "YAvbKkrhqE0h"
      },
      "outputs": [],
      "source": [
        "train_dataset=train_dataset.map(resize_rescale)\n",
        "val_dataset=val_dataset.map(resize_rescale)\n",
        "test_dataset=test_dataset.map(resize_rescale)\n",
        "# for image,label in train_dataset.take(1):\n",
        "#   print(image,label)"
      ]
    },
    {
      "cell_type": "code",
      "execution_count": 8,
      "metadata": {
        "id": "FqqkdG48qE45"
      },
      "outputs": [],
      "source": [
        "train_dataset=train_dataset.shuffle(buffer_size=8, reshuffle_each_iteration=True).batch(32).prefetch(tf.data.AUTOTUNE)"
      ]
    },
    {
      "cell_type": "code",
      "execution_count": 9,
      "metadata": {
        "id": "qQfyz9bBk9Do"
      },
      "outputs": [],
      "source": [
        "val_dataset=val_dataset.shuffle(buffer_size=8, reshuffle_each_iteration=True).batch(32).prefetch(tf.data.AUTOTUNE)"
      ]
    },
    {
      "cell_type": "code",
      "execution_count": 10,
      "metadata": {
        "id": "cbebxDpWk9M0"
      },
      "outputs": [],
      "source": [
        "test_dataset=test_dataset.batch(1)"
      ]
    },
    {
      "cell_type": "markdown",
      "metadata": {
        "id": "nh90VkItVXrT"
      },
      "source": [
        "##Model Creation and Training\n"
      ]
    },
    {
      "cell_type": "code",
      "execution_count": 11,
      "metadata": {
        "id": "_DZXH_AR3-YD"
      },
      "outputs": [],
      "source": [
        "class Custom_Dense(Layer):\n",
        "  def __init__(self, output_units,activation):\n",
        "    super(Custom_Dense, self).__init__()\n",
        "    self.output_units = output_units\n",
        "    self.activation = activation\n",
        "\n",
        "  def build(self, input_features_shape):\n",
        "    self.w = self.add_weight(shape = (input_features_shape[-1], self.output_units), initializer = 'random_normal', trainable =True)\n",
        "    self.b = self.add_weight(shape = (self.output_units,), initializer = 'random_normal', trainable = True)\n",
        "\n",
        "  def call(self,input_features):\n",
        "    pre_output = tf.matmul(input_features,self.w) + self.b\n",
        "    if (self.activation == 'relu'):\n",
        "      return tf.nn.relu(pre_output)\n",
        "    elif (self.activation == 'sigmoid'):\n",
        "      return tf.math.sigmoid(pre_output)\n",
        "    else:\n",
        "      return pre_output"
      ]
    },
    {
      "cell_type": "code",
      "execution_count": 12,
      "metadata": {
        "id": "MMpUKx687ZsN"
      },
      "outputs": [],
      "source": [
        "lenet_custom_model = tf.keras.models.Sequential([\n",
        "                                      InputLayer(input_shape=(IMAGE_SIZE,IMAGE_SIZE,3)),\n",
        "\n",
        "                                      Conv2D(filters=6, kernel_size=3, strides=1, padding='valid', activation='relu'),\n",
        "                                      BatchNormalization(),\n",
        "                                      MaxPooling2D(pool_size=2, strides=2),\n",
        "\n",
        "                                      Conv2D(filters=16, kernel_size=3, strides=1, padding='valid', activation='relu'),\n",
        "                                      BatchNormalization(),\n",
        "                                      MaxPooling2D(pool_size=2, strides=2),\n",
        "\n",
        "                                      Flatten(),\n",
        "                                      Custom_Dense(100, activation='relu'),\n",
        "                                      BatchNormalization(),\n",
        "                                      Custom_Dense(10, activation='relu'),\n",
        "                                      BatchNormalization(),\n",
        "\n",
        "                                      Custom_Dense(1, activation='sigmoid')\n",
        "                                      ])\n",
        "#lenet_custom_model.summary()"
      ]
    },
    {
      "cell_type": "markdown",
      "source": [
        "#Callbacks"
      ],
      "metadata": {
        "id": "cfFWY_dLNjSN"
      }
    },
    {
      "cell_type": "code",
      "source": [
        "class LossCallBack(Callback):\n",
        "  def on_epoch_end(self, epoch, logs):\n",
        "    print(\"\\n For the Epoch number {}, the model has a Loss of {}\".format(epoch+1,logs[\"loss\"]))\n",
        "  def on_batch_end(self, batch, logs):\n",
        "    print(\"\\n For the batch number {}, the model has a loss of {}\".format(batch+1, logs))\n"
      ],
      "metadata": {
        "id": "8ImuUg93NmLQ"
      },
      "execution_count": 13,
      "outputs": []
    },
    {
      "cell_type": "markdown",
      "source": [
        "##CSVLogger"
      ],
      "metadata": {
        "id": "hok4NppjVben"
      }
    },
    {
      "cell_type": "code",
      "source": [
        "callback_csv = CSVLogger(\n",
        "    'csv.logger', separator=',', append=True\n",
        ")"
      ],
      "metadata": {
        "id": "LTd7Gpn4VhIC"
      },
      "execution_count": 14,
      "outputs": []
    },
    {
      "cell_type": "markdown",
      "source": [
        "##EarlyStopping"
      ],
      "metadata": {
        "id": "PSyDmQqha6GY"
      }
    },
    {
      "cell_type": "code",
      "source": [
        "es_callback = EarlyStopping(\n",
        "    monitor='val_loss',\n",
        "    min_delta=0,\n",
        "    patience=2,\n",
        "    verbose=1,\n",
        "    mode='auto',\n",
        "    baseline=None,\n",
        "    restore_best_weights=True,\n",
        "    start_from_epoch=7\n",
        ")"
      ],
      "metadata": {
        "id": "q2HsW-6ya-Q8"
      },
      "execution_count": 15,
      "outputs": []
    },
    {
      "cell_type": "markdown",
      "source": [
        "##LearningRateSchedular"
      ],
      "metadata": {
        "id": "tEvexvXshyau"
      }
    },
    {
      "cell_type": "code",
      "source": [
        "def scheduler(epoch, lr):\n",
        "  if epoch < 5:\n",
        "    return lr\n",
        "  else:\n",
        "    return lr * tf.math.exp(-0.1)\n",
        "lrshedular_callback = LearningRateScheduler(scheduler, verbose=1)"
      ],
      "metadata": {
        "id": "xdl_asJrh3WL"
      },
      "execution_count": 16,
      "outputs": []
    },
    {
      "cell_type": "markdown",
      "source": [
        "## ModelCheckpoint"
      ],
      "metadata": {
        "id": "8uGPFoxKlDT6"
      }
    },
    {
      "cell_type": "code",
      "source": [
        "model_check_points = ModelCheckpoint('weights.{epoch:02d}-{val_loss:.2f}.h5',\n",
        "    monitor = 'val_loss',\n",
        "    verbose= 0,\n",
        "    save_best_only = True,\n",
        "    save_weights_only = True,\n",
        "    mode='auto',\n",
        "    save_freq='epoch',\n",
        ")"
      ],
      "metadata": {
        "id": "_QGcIGCslFnC"
      },
      "execution_count": 58,
      "outputs": []
    },
    {
      "cell_type": "markdown",
      "source": [
        "## ReduceLROnPlateau"
      ],
      "metadata": {
        "id": "umBbG8q2kyg2"
      }
    },
    {
      "cell_type": "code",
      "source": [
        "plateau_callback = ReduceLROnPlateau(\n",
        "    monitor='val_accuracy',\n",
        "    factor=0.1,\n",
        "    patience=2,\n",
        "    verbose=1,\n",
        "    mode='auto',\n",
        "    min_delta=0.0001,\n",
        "    cooldown=0,\n",
        "    min_lr=0,\n",
        ")"
      ],
      "metadata": {
        "id": "Pp0KgEVqh9-3"
      },
      "execution_count": 71,
      "outputs": []
    },
    {
      "cell_type": "code",
      "source": [
        "metrics =[BinaryAccuracy(name ='accuracy'), FalseNegatives(name ='fp'),FalsePositives(name ='fn'), TruePositives(name ='tp'),\n",
        "          TrueNegatives(name ='tn'), Recall(name ='recall'), Precision(name ='precision'), AUC(name ='auc')]"
      ],
      "metadata": {
        "id": "qGGOiPnmBXOH"
      },
      "execution_count": 72,
      "outputs": []
    },
    {
      "cell_type": "code",
      "execution_count": 73,
      "metadata": {
        "id": "gJP1F7vRmaMZ"
      },
      "outputs": [],
      "source": [
        "lenet_custom_model.compile(optimizer=Adam(learning_rate=0.01), loss=BinaryCrossentropy(),metrics=metrics)"
      ]
    },
    {
      "cell_type": "code",
      "execution_count": 74,
      "metadata": {
        "colab": {
          "base_uri": "https://localhost:8080/"
        },
        "id": "23IhgPMzl9X7",
        "outputId": "1c3e8f37-dbd9-45ff-ae26-d819d0e5b3fb"
      },
      "outputs": [
        {
          "output_type": "stream",
          "name": "stdout",
          "text": [
            "Epoch 1/13\n",
            "689/689 [==============================] - 19s 24ms/step - loss: 0.0243 - accuracy: 0.9916 - fp: 91.0000 - fn: 94.0000 - tp: 10931.0000 - tn: 10930.0000 - recall: 0.9917 - precision: 0.9915 - auc: 0.9994 - val_loss: 0.2679 - val_accuracy: 0.9445 - val_fp: 99.0000 - val_fn: 54.0000 - val_tp: 1297.0000 - val_tn: 1305.0000 - val_recall: 0.9291 - val_precision: 0.9600 - val_auc: 0.9753 - lr: 0.0100\n",
            "Epoch 2/13\n",
            "689/689 [==============================] - 16s 23ms/step - loss: 0.0261 - accuracy: 0.9912 - fp: 83.0000 - fn: 110.0000 - tp: 10940.0000 - tn: 10913.0000 - recall: 0.9925 - precision: 0.9900 - auc: 0.9991 - val_loss: 0.2292 - val_accuracy: 0.9387 - val_fp: 95.0000 - val_fn: 74.0000 - val_tp: 1293.0000 - val_tn: 1293.0000 - val_recall: 0.9316 - val_precision: 0.9459 - val_auc: 0.9776 - lr: 0.0100\n",
            "Epoch 3/13\n",
            "688/689 [============================>.] - ETA: 0s - loss: 0.0168 - accuracy: 0.9934 - fp: 68.0000 - fn: 77.0000 - tp: 10940.0000 - tn: 10931.0000 - recall: 0.9938 - precision: 0.9930 - auc: 0.9997\n",
            "Epoch 3: ReduceLROnPlateau reducing learning rate to 0.0009999999776482583.\n",
            "689/689 [==============================] - 16s 23ms/step - loss: 0.0168 - accuracy: 0.9934 - fp: 68.0000 - fn: 77.0000 - tp: 10954.0000 - tn: 10947.0000 - recall: 0.9938 - precision: 0.9930 - auc: 0.9997 - val_loss: 0.3039 - val_accuracy: 0.9401 - val_fp: 91.0000 - val_fn: 74.0000 - val_tp: 1301.0000 - val_tn: 1289.0000 - val_recall: 0.9346 - val_precision: 0.9462 - val_auc: 0.9739 - lr: 0.0100\n",
            "Epoch 4/13\n",
            "689/689 [==============================] - 16s 23ms/step - loss: 0.0100 - accuracy: 0.9963 - fp: 42.0000 - fn: 39.0000 - tp: 10983.0000 - tn: 10982.0000 - recall: 0.9962 - precision: 0.9965 - auc: 0.9999 - val_loss: 0.2994 - val_accuracy: 0.9499 - val_fp: 57.0000 - val_fn: 81.0000 - val_tp: 1334.0000 - val_tn: 1283.0000 - val_recall: 0.9590 - val_precision: 0.9428 - val_auc: 0.9730 - lr: 1.0000e-03\n",
            "Epoch 5/13\n",
            "689/689 [==============================] - 15s 22ms/step - loss: 0.0072 - accuracy: 0.9974 - fp: 31.0000 - fn: 27.0000 - tp: 10996.0000 - tn: 10992.0000 - recall: 0.9972 - precision: 0.9976 - auc: 1.0000 - val_loss: 0.3293 - val_accuracy: 0.9514 - val_fp: 51.0000 - val_fn: 83.0000 - val_tp: 1337.0000 - val_tn: 1284.0000 - val_recall: 0.9633 - val_precision: 0.9415 - val_auc: 0.9719 - lr: 1.0000e-03\n",
            "Epoch 6/13\n",
            "689/689 [==============================] - 15s 22ms/step - loss: 0.0059 - accuracy: 0.9983 - fp: 23.0000 - fn: 15.0000 - tp: 11002.0000 - tn: 11006.0000 - recall: 0.9979 - precision: 0.9986 - auc: 0.9998 - val_loss: 0.3624 - val_accuracy: 0.9492 - val_fp: 46.0000 - val_fn: 94.0000 - val_tp: 1346.0000 - val_tn: 1269.0000 - val_recall: 0.9670 - val_precision: 0.9347 - val_auc: 0.9702 - lr: 1.0000e-03\n",
            "Epoch 7/13\n",
            "688/689 [============================>.] - ETA: 0s - loss: 0.0040 - accuracy: 0.9988 - fp: 11.0000 - fn: 15.0000 - tp: 10998.0000 - tn: 10992.0000 - recall: 0.9990 - precision: 0.9986 - auc: 1.0000\n",
            "Epoch 7: ReduceLROnPlateau reducing learning rate to 9.999999310821295e-05.\n",
            "689/689 [==============================] - 16s 23ms/step - loss: 0.0040 - accuracy: 0.9988 - fp: 11.0000 - fn: 15.0000 - tp: 11012.0000 - tn: 11008.0000 - recall: 0.9990 - precision: 0.9986 - auc: 1.0000 - val_loss: 0.3435 - val_accuracy: 0.9492 - val_fp: 52.0000 - val_fn: 88.0000 - val_tp: 1345.0000 - val_tn: 1270.0000 - val_recall: 0.9628 - val_precision: 0.9386 - val_auc: 0.9720 - lr: 1.0000e-03\n",
            "Epoch 8/13\n",
            "689/689 [==============================] - 16s 23ms/step - loss: 0.0030 - accuracy: 0.9993 - fp: 9.0000 - fn: 7.0000 - tp: 11017.0000 - tn: 11013.0000 - recall: 0.9992 - precision: 0.9994 - auc: 0.9999 - val_loss: 0.3545 - val_accuracy: 0.9499 - val_fp: 50.0000 - val_fn: 88.0000 - val_tp: 1342.0000 - val_tn: 1275.0000 - val_recall: 0.9641 - val_precision: 0.9385 - val_auc: 0.9716 - lr: 1.0000e-04\n",
            "Epoch 9/13\n",
            "688/689 [============================>.] - ETA: 0s - loss: 0.0025 - accuracy: 0.9993 - fp: 7.0000 - fn: 9.0000 - tp: 11004.0000 - tn: 10996.0000 - recall: 0.9994 - precision: 0.9992 - auc: 1.0000\n",
            "Epoch 9: ReduceLROnPlateau reducing learning rate to 9.999999019782991e-06.\n",
            "689/689 [==============================] - 16s 23ms/step - loss: 0.0027 - accuracy: 0.9992 - fp: 7.0000 - fn: 10.0000 - tp: 11018.0000 - tn: 11011.0000 - recall: 0.9994 - precision: 0.9991 - auc: 1.0000 - val_loss: 0.3566 - val_accuracy: 0.9499 - val_fp: 49.0000 - val_fn: 89.0000 - val_tp: 1346.0000 - val_tn: 1271.0000 - val_recall: 0.9649 - val_precision: 0.9380 - val_auc: 0.9719 - lr: 1.0000e-04\n",
            "Epoch 10/13\n",
            "689/689 [==============================] - 15s 22ms/step - loss: 0.0046 - accuracy: 0.9987 - fp: 17.0000 - fn: 11.0000 - tp: 11008.0000 - tn: 11010.0000 - recall: 0.9985 - precision: 0.9990 - auc: 0.9998 - val_loss: 0.3565 - val_accuracy: 0.9499 - val_fp: 50.0000 - val_fn: 88.0000 - val_tp: 1341.0000 - val_tn: 1276.0000 - val_recall: 0.9641 - val_precision: 0.9384 - val_auc: 0.9716 - lr: 1.0000e-05\n",
            "Epoch 11/13\n",
            "688/689 [============================>.] - ETA: 0s - loss: 0.0029 - accuracy: 0.9991 - fp: 7.0000 - fn: 12.0000 - tp: 11003.0000 - tn: 10994.0000 - recall: 0.9994 - precision: 0.9989 - auc: 0.9999\n",
            "Epoch 11: ReduceLROnPlateau reducing learning rate to 9.99999883788405e-07.\n",
            "689/689 [==============================] - 15s 22ms/step - loss: 0.0029 - accuracy: 0.9991 - fp: 7.0000 - fn: 13.0000 - tp: 11019.0000 - tn: 11007.0000 - recall: 0.9994 - precision: 0.9988 - auc: 0.9999 - val_loss: 0.3558 - val_accuracy: 0.9499 - val_fp: 49.0000 - val_fn: 89.0000 - val_tp: 1338.0000 - val_tn: 1279.0000 - val_recall: 0.9647 - val_precision: 0.9376 - val_auc: 0.9717 - lr: 1.0000e-05\n",
            "Epoch 12/13\n",
            "689/689 [==============================] - 15s 22ms/step - loss: 0.0045 - accuracy: 0.9985 - fp: 10.0000 - fn: 22.0000 - tp: 11015.0000 - tn: 10999.0000 - recall: 0.9991 - precision: 0.9980 - auc: 0.9999 - val_loss: 0.3577 - val_accuracy: 0.9503 - val_fp: 48.0000 - val_fn: 89.0000 - val_tp: 1339.0000 - val_tn: 1279.0000 - val_recall: 0.9654 - val_precision: 0.9377 - val_auc: 0.9717 - lr: 1.0000e-06\n",
            "Epoch 13/13\n",
            "688/689 [============================>.] - ETA: 0s - loss: 0.0029 - accuracy: 0.9992 - fp: 9.0000 - fn: 9.0000 - tp: 10997.0000 - tn: 11001.0000 - recall: 0.9992 - precision: 0.9992 - auc: 0.9999\n",
            "Epoch 13: ReduceLROnPlateau reducing learning rate to 9.99999883788405e-08.\n",
            "689/689 [==============================] - 16s 23ms/step - loss: 0.0029 - accuracy: 0.9992 - fp: 9.0000 - fn: 9.0000 - tp: 11013.0000 - tn: 11015.0000 - recall: 0.9992 - precision: 0.9992 - auc: 0.9999 - val_loss: 0.3580 - val_accuracy: 0.9503 - val_fp: 48.0000 - val_fn: 89.0000 - val_tp: 1340.0000 - val_tn: 1278.0000 - val_recall: 0.9654 - val_precision: 0.9377 - val_auc: 0.9717 - lr: 1.0000e-06\n"
          ]
        }
      ],
      "source": [
        "history= lenet_custom_model.fit(train_dataset,validation_data= val_dataset,epochs=13,verbose=1, callbacks=[plateau_callback])"
      ]
    },
    {
      "cell_type": "code",
      "execution_count": 77,
      "metadata": {
        "colab": {
          "base_uri": "https://localhost:8080/"
        },
        "id": "D34IzxzusoCD",
        "outputId": "9f0548a3-59f8-42bc-d98b-832b8458490d"
      },
      "outputs": [
        {
          "output_type": "stream",
          "name": "stdout",
          "text": [
            "2757/2757 [==============================] - 12s 3ms/step - loss: 0.4072 - accuracy: 0.9434 - fp: 65.0000 - fn: 91.0000 - tp: 1297.0000 - tn: 1304.0000 - recall: 0.9523 - precision: 0.9344 - auc: 0.9644\n"
          ]
        },
        {
          "output_type": "execute_result",
          "data": {
            "text/plain": [
              "[0.4072275459766388,\n",
              " 0.9434167742729187,\n",
              " 65.0,\n",
              " 91.0,\n",
              " 1297.0,\n",
              " 1304.0,\n",
              " 0.9522760510444641,\n",
              " 0.9344380497932434,\n",
              " 0.9643754363059998]"
            ]
          },
          "metadata": {},
          "execution_count": 77
        }
      ],
      "source": [
        "lenet_custom_model.evaluate(test_dataset)"
      ]
    },
    {
      "cell_type": "code",
      "execution_count": 19,
      "metadata": {
        "colab": {
          "base_uri": "https://localhost:8080/"
        },
        "id": "uokn9QXZtOKY",
        "outputId": "4bd5fbbf-ae58-4d59-9225-208552bf8d95"
      },
      "outputs": [
        {
          "output_type": "stream",
          "name": "stdout",
          "text": [
            "1/1 [==============================] - 11s 11s/step\n"
          ]
        },
        {
          "output_type": "execute_result",
          "data": {
            "text/plain": [
              "9.5001235e-07"
            ]
          },
          "metadata": {},
          "execution_count": 19
        }
      ],
      "source": [
        "lenet_custom_model.predict(test_dataset.take(1))[0][0]"
      ]
    }
  ],
  "metadata": {
    "accelerator": "GPU",
    "colab": {
      "provenance": [],
      "machine_shape": "hm",
      "gpuType": "V100",
      "authorship_tag": "ABX9TyOxe7aIQG28/joHvzrEw8wH",
      "include_colab_link": true
    },
    "kernelspec": {
      "display_name": "Python 3",
      "name": "python3"
    },
    "language_info": {
      "name": "python"
    },
    "widgets": {
      "application/vnd.jupyter.widget-state+json": {
        "09c85375ba8f466eb42ad0696e256c97": {
          "model_module": "@jupyter-widgets/controls",
          "model_name": "HBoxModel",
          "model_module_version": "1.5.0",
          "state": {
            "_dom_classes": [],
            "_model_module": "@jupyter-widgets/controls",
            "_model_module_version": "1.5.0",
            "_model_name": "HBoxModel",
            "_view_count": null,
            "_view_module": "@jupyter-widgets/controls",
            "_view_module_version": "1.5.0",
            "_view_name": "HBoxView",
            "box_style": "",
            "children": [
              "IPY_MODEL_29efcdf24ffc4b9d89fb6b0a9004b61a",
              "IPY_MODEL_c5b138f581324cd7a2610c29acc5eea7",
              "IPY_MODEL_50fd1f3bcb1446909ac82e0c56825e57"
            ],
            "layout": "IPY_MODEL_8ffb525ce5fe44e4b5a8c7ca2a85393d"
          }
        },
        "29efcdf24ffc4b9d89fb6b0a9004b61a": {
          "model_module": "@jupyter-widgets/controls",
          "model_name": "HTMLModel",
          "model_module_version": "1.5.0",
          "state": {
            "_dom_classes": [],
            "_model_module": "@jupyter-widgets/controls",
            "_model_module_version": "1.5.0",
            "_model_name": "HTMLModel",
            "_view_count": null,
            "_view_module": "@jupyter-widgets/controls",
            "_view_module_version": "1.5.0",
            "_view_name": "HTMLView",
            "description": "",
            "description_tooltip": null,
            "layout": "IPY_MODEL_29f9d69309f642ca959ed910c512cdde",
            "placeholder": "​",
            "style": "IPY_MODEL_6d9c077386c34e288aba12a75601e10b",
            "value": "Dl Completed...: 100%"
          }
        },
        "c5b138f581324cd7a2610c29acc5eea7": {
          "model_module": "@jupyter-widgets/controls",
          "model_name": "FloatProgressModel",
          "model_module_version": "1.5.0",
          "state": {
            "_dom_classes": [],
            "_model_module": "@jupyter-widgets/controls",
            "_model_module_version": "1.5.0",
            "_model_name": "FloatProgressModel",
            "_view_count": null,
            "_view_module": "@jupyter-widgets/controls",
            "_view_module_version": "1.5.0",
            "_view_name": "ProgressView",
            "bar_style": "success",
            "description": "",
            "description_tooltip": null,
            "layout": "IPY_MODEL_3e801ba43ec0481389b0e6b94cc4ee63",
            "max": 1,
            "min": 0,
            "orientation": "horizontal",
            "style": "IPY_MODEL_4378116bd63d4b698e1f9cd0548517dd",
            "value": 1
          }
        },
        "50fd1f3bcb1446909ac82e0c56825e57": {
          "model_module": "@jupyter-widgets/controls",
          "model_name": "HTMLModel",
          "model_module_version": "1.5.0",
          "state": {
            "_dom_classes": [],
            "_model_module": "@jupyter-widgets/controls",
            "_model_module_version": "1.5.0",
            "_model_name": "HTMLModel",
            "_view_count": null,
            "_view_module": "@jupyter-widgets/controls",
            "_view_module_version": "1.5.0",
            "_view_name": "HTMLView",
            "description": "",
            "description_tooltip": null,
            "layout": "IPY_MODEL_0cd3e049f5e84e7981cc4079d3521fac",
            "placeholder": "​",
            "style": "IPY_MODEL_9dc9bd206119464bae7dbe8ae1ebad31",
            "value": " 1/1 [01:01&lt;00:00, 17.38s/ url]"
          }
        },
        "8ffb525ce5fe44e4b5a8c7ca2a85393d": {
          "model_module": "@jupyter-widgets/base",
          "model_name": "LayoutModel",
          "model_module_version": "1.2.0",
          "state": {
            "_model_module": "@jupyter-widgets/base",
            "_model_module_version": "1.2.0",
            "_model_name": "LayoutModel",
            "_view_count": null,
            "_view_module": "@jupyter-widgets/base",
            "_view_module_version": "1.2.0",
            "_view_name": "LayoutView",
            "align_content": null,
            "align_items": null,
            "align_self": null,
            "border": null,
            "bottom": null,
            "display": null,
            "flex": null,
            "flex_flow": null,
            "grid_area": null,
            "grid_auto_columns": null,
            "grid_auto_flow": null,
            "grid_auto_rows": null,
            "grid_column": null,
            "grid_gap": null,
            "grid_row": null,
            "grid_template_areas": null,
            "grid_template_columns": null,
            "grid_template_rows": null,
            "height": null,
            "justify_content": null,
            "justify_items": null,
            "left": null,
            "margin": null,
            "max_height": null,
            "max_width": null,
            "min_height": null,
            "min_width": null,
            "object_fit": null,
            "object_position": null,
            "order": null,
            "overflow": null,
            "overflow_x": null,
            "overflow_y": null,
            "padding": null,
            "right": null,
            "top": null,
            "visibility": null,
            "width": null
          }
        },
        "29f9d69309f642ca959ed910c512cdde": {
          "model_module": "@jupyter-widgets/base",
          "model_name": "LayoutModel",
          "model_module_version": "1.2.0",
          "state": {
            "_model_module": "@jupyter-widgets/base",
            "_model_module_version": "1.2.0",
            "_model_name": "LayoutModel",
            "_view_count": null,
            "_view_module": "@jupyter-widgets/base",
            "_view_module_version": "1.2.0",
            "_view_name": "LayoutView",
            "align_content": null,
            "align_items": null,
            "align_self": null,
            "border": null,
            "bottom": null,
            "display": null,
            "flex": null,
            "flex_flow": null,
            "grid_area": null,
            "grid_auto_columns": null,
            "grid_auto_flow": null,
            "grid_auto_rows": null,
            "grid_column": null,
            "grid_gap": null,
            "grid_row": null,
            "grid_template_areas": null,
            "grid_template_columns": null,
            "grid_template_rows": null,
            "height": null,
            "justify_content": null,
            "justify_items": null,
            "left": null,
            "margin": null,
            "max_height": null,
            "max_width": null,
            "min_height": null,
            "min_width": null,
            "object_fit": null,
            "object_position": null,
            "order": null,
            "overflow": null,
            "overflow_x": null,
            "overflow_y": null,
            "padding": null,
            "right": null,
            "top": null,
            "visibility": null,
            "width": null
          }
        },
        "6d9c077386c34e288aba12a75601e10b": {
          "model_module": "@jupyter-widgets/controls",
          "model_name": "DescriptionStyleModel",
          "model_module_version": "1.5.0",
          "state": {
            "_model_module": "@jupyter-widgets/controls",
            "_model_module_version": "1.5.0",
            "_model_name": "DescriptionStyleModel",
            "_view_count": null,
            "_view_module": "@jupyter-widgets/base",
            "_view_module_version": "1.2.0",
            "_view_name": "StyleView",
            "description_width": ""
          }
        },
        "3e801ba43ec0481389b0e6b94cc4ee63": {
          "model_module": "@jupyter-widgets/base",
          "model_name": "LayoutModel",
          "model_module_version": "1.2.0",
          "state": {
            "_model_module": "@jupyter-widgets/base",
            "_model_module_version": "1.2.0",
            "_model_name": "LayoutModel",
            "_view_count": null,
            "_view_module": "@jupyter-widgets/base",
            "_view_module_version": "1.2.0",
            "_view_name": "LayoutView",
            "align_content": null,
            "align_items": null,
            "align_self": null,
            "border": null,
            "bottom": null,
            "display": null,
            "flex": null,
            "flex_flow": null,
            "grid_area": null,
            "grid_auto_columns": null,
            "grid_auto_flow": null,
            "grid_auto_rows": null,
            "grid_column": null,
            "grid_gap": null,
            "grid_row": null,
            "grid_template_areas": null,
            "grid_template_columns": null,
            "grid_template_rows": null,
            "height": null,
            "justify_content": null,
            "justify_items": null,
            "left": null,
            "margin": null,
            "max_height": null,
            "max_width": null,
            "min_height": null,
            "min_width": null,
            "object_fit": null,
            "object_position": null,
            "order": null,
            "overflow": null,
            "overflow_x": null,
            "overflow_y": null,
            "padding": null,
            "right": null,
            "top": null,
            "visibility": null,
            "width": "20px"
          }
        },
        "4378116bd63d4b698e1f9cd0548517dd": {
          "model_module": "@jupyter-widgets/controls",
          "model_name": "ProgressStyleModel",
          "model_module_version": "1.5.0",
          "state": {
            "_model_module": "@jupyter-widgets/controls",
            "_model_module_version": "1.5.0",
            "_model_name": "ProgressStyleModel",
            "_view_count": null,
            "_view_module": "@jupyter-widgets/base",
            "_view_module_version": "1.2.0",
            "_view_name": "StyleView",
            "bar_color": null,
            "description_width": ""
          }
        },
        "0cd3e049f5e84e7981cc4079d3521fac": {
          "model_module": "@jupyter-widgets/base",
          "model_name": "LayoutModel",
          "model_module_version": "1.2.0",
          "state": {
            "_model_module": "@jupyter-widgets/base",
            "_model_module_version": "1.2.0",
            "_model_name": "LayoutModel",
            "_view_count": null,
            "_view_module": "@jupyter-widgets/base",
            "_view_module_version": "1.2.0",
            "_view_name": "LayoutView",
            "align_content": null,
            "align_items": null,
            "align_self": null,
            "border": null,
            "bottom": null,
            "display": null,
            "flex": null,
            "flex_flow": null,
            "grid_area": null,
            "grid_auto_columns": null,
            "grid_auto_flow": null,
            "grid_auto_rows": null,
            "grid_column": null,
            "grid_gap": null,
            "grid_row": null,
            "grid_template_areas": null,
            "grid_template_columns": null,
            "grid_template_rows": null,
            "height": null,
            "justify_content": null,
            "justify_items": null,
            "left": null,
            "margin": null,
            "max_height": null,
            "max_width": null,
            "min_height": null,
            "min_width": null,
            "object_fit": null,
            "object_position": null,
            "order": null,
            "overflow": null,
            "overflow_x": null,
            "overflow_y": null,
            "padding": null,
            "right": null,
            "top": null,
            "visibility": null,
            "width": null
          }
        },
        "9dc9bd206119464bae7dbe8ae1ebad31": {
          "model_module": "@jupyter-widgets/controls",
          "model_name": "DescriptionStyleModel",
          "model_module_version": "1.5.0",
          "state": {
            "_model_module": "@jupyter-widgets/controls",
            "_model_module_version": "1.5.0",
            "_model_name": "DescriptionStyleModel",
            "_view_count": null,
            "_view_module": "@jupyter-widgets/base",
            "_view_module_version": "1.2.0",
            "_view_name": "StyleView",
            "description_width": ""
          }
        },
        "cd3c2ed29c4441688f95e4a82ca3d290": {
          "model_module": "@jupyter-widgets/controls",
          "model_name": "HBoxModel",
          "model_module_version": "1.5.0",
          "state": {
            "_dom_classes": [],
            "_model_module": "@jupyter-widgets/controls",
            "_model_module_version": "1.5.0",
            "_model_name": "HBoxModel",
            "_view_count": null,
            "_view_module": "@jupyter-widgets/controls",
            "_view_module_version": "1.5.0",
            "_view_name": "HBoxView",
            "box_style": "",
            "children": [
              "IPY_MODEL_9cf5dc327cb24953a8f52674ebbfcda2",
              "IPY_MODEL_797e9d52b3f44f208a5111ff0a4ec742",
              "IPY_MODEL_ae333c40fc354148b33c03a85039c08b"
            ],
            "layout": "IPY_MODEL_2904903fac1f4ad5b9f80741549d1435"
          }
        },
        "9cf5dc327cb24953a8f52674ebbfcda2": {
          "model_module": "@jupyter-widgets/controls",
          "model_name": "HTMLModel",
          "model_module_version": "1.5.0",
          "state": {
            "_dom_classes": [],
            "_model_module": "@jupyter-widgets/controls",
            "_model_module_version": "1.5.0",
            "_model_name": "HTMLModel",
            "_view_count": null,
            "_view_module": "@jupyter-widgets/controls",
            "_view_module_version": "1.5.0",
            "_view_name": "HTMLView",
            "description": "",
            "description_tooltip": null,
            "layout": "IPY_MODEL_429915fd2a134483b13466848e8c7f6d",
            "placeholder": "​",
            "style": "IPY_MODEL_066353c1803c48a29b30ea41d0d6e3ac",
            "value": "Dl Size...: 100%"
          }
        },
        "797e9d52b3f44f208a5111ff0a4ec742": {
          "model_module": "@jupyter-widgets/controls",
          "model_name": "FloatProgressModel",
          "model_module_version": "1.5.0",
          "state": {
            "_dom_classes": [],
            "_model_module": "@jupyter-widgets/controls",
            "_model_module_version": "1.5.0",
            "_model_name": "FloatProgressModel",
            "_view_count": null,
            "_view_module": "@jupyter-widgets/controls",
            "_view_module_version": "1.5.0",
            "_view_name": "ProgressView",
            "bar_style": "success",
            "description": "",
            "description_tooltip": null,
            "layout": "IPY_MODEL_1548ecae72164b4db1548438d9939cbc",
            "max": 1,
            "min": 0,
            "orientation": "horizontal",
            "style": "IPY_MODEL_96ae6ecde0b24c2aa7e0f41ef2b08d29",
            "value": 1
          }
        },
        "ae333c40fc354148b33c03a85039c08b": {
          "model_module": "@jupyter-widgets/controls",
          "model_name": "HTMLModel",
          "model_module_version": "1.5.0",
          "state": {
            "_dom_classes": [],
            "_model_module": "@jupyter-widgets/controls",
            "_model_module_version": "1.5.0",
            "_model_name": "HTMLModel",
            "_view_count": null,
            "_view_module": "@jupyter-widgets/controls",
            "_view_module_version": "1.5.0",
            "_view_name": "HTMLView",
            "description": "",
            "description_tooltip": null,
            "layout": "IPY_MODEL_ce7a52c250d948b8ad108430e4ce7823",
            "placeholder": "​",
            "style": "IPY_MODEL_d0051386ba2248ee9d0e603aa6614e7b",
            "value": " 337/337 [01:01&lt;00:00, 18.95 MiB/s]"
          }
        },
        "2904903fac1f4ad5b9f80741549d1435": {
          "model_module": "@jupyter-widgets/base",
          "model_name": "LayoutModel",
          "model_module_version": "1.2.0",
          "state": {
            "_model_module": "@jupyter-widgets/base",
            "_model_module_version": "1.2.0",
            "_model_name": "LayoutModel",
            "_view_count": null,
            "_view_module": "@jupyter-widgets/base",
            "_view_module_version": "1.2.0",
            "_view_name": "LayoutView",
            "align_content": null,
            "align_items": null,
            "align_self": null,
            "border": null,
            "bottom": null,
            "display": null,
            "flex": null,
            "flex_flow": null,
            "grid_area": null,
            "grid_auto_columns": null,
            "grid_auto_flow": null,
            "grid_auto_rows": null,
            "grid_column": null,
            "grid_gap": null,
            "grid_row": null,
            "grid_template_areas": null,
            "grid_template_columns": null,
            "grid_template_rows": null,
            "height": null,
            "justify_content": null,
            "justify_items": null,
            "left": null,
            "margin": null,
            "max_height": null,
            "max_width": null,
            "min_height": null,
            "min_width": null,
            "object_fit": null,
            "object_position": null,
            "order": null,
            "overflow": null,
            "overflow_x": null,
            "overflow_y": null,
            "padding": null,
            "right": null,
            "top": null,
            "visibility": null,
            "width": null
          }
        },
        "429915fd2a134483b13466848e8c7f6d": {
          "model_module": "@jupyter-widgets/base",
          "model_name": "LayoutModel",
          "model_module_version": "1.2.0",
          "state": {
            "_model_module": "@jupyter-widgets/base",
            "_model_module_version": "1.2.0",
            "_model_name": "LayoutModel",
            "_view_count": null,
            "_view_module": "@jupyter-widgets/base",
            "_view_module_version": "1.2.0",
            "_view_name": "LayoutView",
            "align_content": null,
            "align_items": null,
            "align_self": null,
            "border": null,
            "bottom": null,
            "display": null,
            "flex": null,
            "flex_flow": null,
            "grid_area": null,
            "grid_auto_columns": null,
            "grid_auto_flow": null,
            "grid_auto_rows": null,
            "grid_column": null,
            "grid_gap": null,
            "grid_row": null,
            "grid_template_areas": null,
            "grid_template_columns": null,
            "grid_template_rows": null,
            "height": null,
            "justify_content": null,
            "justify_items": null,
            "left": null,
            "margin": null,
            "max_height": null,
            "max_width": null,
            "min_height": null,
            "min_width": null,
            "object_fit": null,
            "object_position": null,
            "order": null,
            "overflow": null,
            "overflow_x": null,
            "overflow_y": null,
            "padding": null,
            "right": null,
            "top": null,
            "visibility": null,
            "width": null
          }
        },
        "066353c1803c48a29b30ea41d0d6e3ac": {
          "model_module": "@jupyter-widgets/controls",
          "model_name": "DescriptionStyleModel",
          "model_module_version": "1.5.0",
          "state": {
            "_model_module": "@jupyter-widgets/controls",
            "_model_module_version": "1.5.0",
            "_model_name": "DescriptionStyleModel",
            "_view_count": null,
            "_view_module": "@jupyter-widgets/base",
            "_view_module_version": "1.2.0",
            "_view_name": "StyleView",
            "description_width": ""
          }
        },
        "1548ecae72164b4db1548438d9939cbc": {
          "model_module": "@jupyter-widgets/base",
          "model_name": "LayoutModel",
          "model_module_version": "1.2.0",
          "state": {
            "_model_module": "@jupyter-widgets/base",
            "_model_module_version": "1.2.0",
            "_model_name": "LayoutModel",
            "_view_count": null,
            "_view_module": "@jupyter-widgets/base",
            "_view_module_version": "1.2.0",
            "_view_name": "LayoutView",
            "align_content": null,
            "align_items": null,
            "align_self": null,
            "border": null,
            "bottom": null,
            "display": null,
            "flex": null,
            "flex_flow": null,
            "grid_area": null,
            "grid_auto_columns": null,
            "grid_auto_flow": null,
            "grid_auto_rows": null,
            "grid_column": null,
            "grid_gap": null,
            "grid_row": null,
            "grid_template_areas": null,
            "grid_template_columns": null,
            "grid_template_rows": null,
            "height": null,
            "justify_content": null,
            "justify_items": null,
            "left": null,
            "margin": null,
            "max_height": null,
            "max_width": null,
            "min_height": null,
            "min_width": null,
            "object_fit": null,
            "object_position": null,
            "order": null,
            "overflow": null,
            "overflow_x": null,
            "overflow_y": null,
            "padding": null,
            "right": null,
            "top": null,
            "visibility": null,
            "width": "20px"
          }
        },
        "96ae6ecde0b24c2aa7e0f41ef2b08d29": {
          "model_module": "@jupyter-widgets/controls",
          "model_name": "ProgressStyleModel",
          "model_module_version": "1.5.0",
          "state": {
            "_model_module": "@jupyter-widgets/controls",
            "_model_module_version": "1.5.0",
            "_model_name": "ProgressStyleModel",
            "_view_count": null,
            "_view_module": "@jupyter-widgets/base",
            "_view_module_version": "1.2.0",
            "_view_name": "StyleView",
            "bar_color": null,
            "description_width": ""
          }
        },
        "ce7a52c250d948b8ad108430e4ce7823": {
          "model_module": "@jupyter-widgets/base",
          "model_name": "LayoutModel",
          "model_module_version": "1.2.0",
          "state": {
            "_model_module": "@jupyter-widgets/base",
            "_model_module_version": "1.2.0",
            "_model_name": "LayoutModel",
            "_view_count": null,
            "_view_module": "@jupyter-widgets/base",
            "_view_module_version": "1.2.0",
            "_view_name": "LayoutView",
            "align_content": null,
            "align_items": null,
            "align_self": null,
            "border": null,
            "bottom": null,
            "display": null,
            "flex": null,
            "flex_flow": null,
            "grid_area": null,
            "grid_auto_columns": null,
            "grid_auto_flow": null,
            "grid_auto_rows": null,
            "grid_column": null,
            "grid_gap": null,
            "grid_row": null,
            "grid_template_areas": null,
            "grid_template_columns": null,
            "grid_template_rows": null,
            "height": null,
            "justify_content": null,
            "justify_items": null,
            "left": null,
            "margin": null,
            "max_height": null,
            "max_width": null,
            "min_height": null,
            "min_width": null,
            "object_fit": null,
            "object_position": null,
            "order": null,
            "overflow": null,
            "overflow_x": null,
            "overflow_y": null,
            "padding": null,
            "right": null,
            "top": null,
            "visibility": null,
            "width": null
          }
        },
        "d0051386ba2248ee9d0e603aa6614e7b": {
          "model_module": "@jupyter-widgets/controls",
          "model_name": "DescriptionStyleModel",
          "model_module_version": "1.5.0",
          "state": {
            "_model_module": "@jupyter-widgets/controls",
            "_model_module_version": "1.5.0",
            "_model_name": "DescriptionStyleModel",
            "_view_count": null,
            "_view_module": "@jupyter-widgets/base",
            "_view_module_version": "1.2.0",
            "_view_name": "StyleView",
            "description_width": ""
          }
        },
        "47e1e99ba0b84772a6126286b824e8cf": {
          "model_module": "@jupyter-widgets/controls",
          "model_name": "HBoxModel",
          "model_module_version": "1.5.0",
          "state": {
            "_dom_classes": [],
            "_model_module": "@jupyter-widgets/controls",
            "_model_module_version": "1.5.0",
            "_model_name": "HBoxModel",
            "_view_count": null,
            "_view_module": "@jupyter-widgets/controls",
            "_view_module_version": "1.5.0",
            "_view_name": "HBoxView",
            "box_style": "",
            "children": [
              "IPY_MODEL_4945756aabdd48a7aa6cf9feb03aa727",
              "IPY_MODEL_0ce33f5706a3420b9634b06bdb1be5eb",
              "IPY_MODEL_b8702a1d80da4124970c4c21c4a734a3"
            ],
            "layout": "IPY_MODEL_a87b58fd3632431589686bc329dbd379"
          }
        },
        "4945756aabdd48a7aa6cf9feb03aa727": {
          "model_module": "@jupyter-widgets/controls",
          "model_name": "HTMLModel",
          "model_module_version": "1.5.0",
          "state": {
            "_dom_classes": [],
            "_model_module": "@jupyter-widgets/controls",
            "_model_module_version": "1.5.0",
            "_model_name": "HTMLModel",
            "_view_count": null,
            "_view_module": "@jupyter-widgets/controls",
            "_view_module_version": "1.5.0",
            "_view_name": "HTMLView",
            "description": "",
            "description_tooltip": null,
            "layout": "IPY_MODEL_fa0aa0f007f0437db59e2d5291dd4319",
            "placeholder": "​",
            "style": "IPY_MODEL_29356a6704ab4dbc9add1c8d7f81a8d4",
            "value": "Extraction completed...: 100%"
          }
        },
        "0ce33f5706a3420b9634b06bdb1be5eb": {
          "model_module": "@jupyter-widgets/controls",
          "model_name": "FloatProgressModel",
          "model_module_version": "1.5.0",
          "state": {
            "_dom_classes": [],
            "_model_module": "@jupyter-widgets/controls",
            "_model_module_version": "1.5.0",
            "_model_name": "FloatProgressModel",
            "_view_count": null,
            "_view_module": "@jupyter-widgets/controls",
            "_view_module_version": "1.5.0",
            "_view_name": "ProgressView",
            "bar_style": "success",
            "description": "",
            "description_tooltip": null,
            "layout": "IPY_MODEL_e5c618911a5b45a9aef5e93165d0d884",
            "max": 1,
            "min": 0,
            "orientation": "horizontal",
            "style": "IPY_MODEL_81b956d27c8c46588fcdb5605b69fad8",
            "value": 1
          }
        },
        "b8702a1d80da4124970c4c21c4a734a3": {
          "model_module": "@jupyter-widgets/controls",
          "model_name": "HTMLModel",
          "model_module_version": "1.5.0",
          "state": {
            "_dom_classes": [],
            "_model_module": "@jupyter-widgets/controls",
            "_model_module_version": "1.5.0",
            "_model_name": "HTMLModel",
            "_view_count": null,
            "_view_module": "@jupyter-widgets/controls",
            "_view_module_version": "1.5.0",
            "_view_name": "HTMLView",
            "description": "",
            "description_tooltip": null,
            "layout": "IPY_MODEL_e5fb3f85c1084fe9a246d7febeceee3d",
            "placeholder": "​",
            "style": "IPY_MODEL_cf9ae75031dc4062829fb64f30b8e4f1",
            "value": " 27560/27560 [01:01&lt;00:00, 3685.06 file/s]"
          }
        },
        "a87b58fd3632431589686bc329dbd379": {
          "model_module": "@jupyter-widgets/base",
          "model_name": "LayoutModel",
          "model_module_version": "1.2.0",
          "state": {
            "_model_module": "@jupyter-widgets/base",
            "_model_module_version": "1.2.0",
            "_model_name": "LayoutModel",
            "_view_count": null,
            "_view_module": "@jupyter-widgets/base",
            "_view_module_version": "1.2.0",
            "_view_name": "LayoutView",
            "align_content": null,
            "align_items": null,
            "align_self": null,
            "border": null,
            "bottom": null,
            "display": null,
            "flex": null,
            "flex_flow": null,
            "grid_area": null,
            "grid_auto_columns": null,
            "grid_auto_flow": null,
            "grid_auto_rows": null,
            "grid_column": null,
            "grid_gap": null,
            "grid_row": null,
            "grid_template_areas": null,
            "grid_template_columns": null,
            "grid_template_rows": null,
            "height": null,
            "justify_content": null,
            "justify_items": null,
            "left": null,
            "margin": null,
            "max_height": null,
            "max_width": null,
            "min_height": null,
            "min_width": null,
            "object_fit": null,
            "object_position": null,
            "order": null,
            "overflow": null,
            "overflow_x": null,
            "overflow_y": null,
            "padding": null,
            "right": null,
            "top": null,
            "visibility": null,
            "width": null
          }
        },
        "fa0aa0f007f0437db59e2d5291dd4319": {
          "model_module": "@jupyter-widgets/base",
          "model_name": "LayoutModel",
          "model_module_version": "1.2.0",
          "state": {
            "_model_module": "@jupyter-widgets/base",
            "_model_module_version": "1.2.0",
            "_model_name": "LayoutModel",
            "_view_count": null,
            "_view_module": "@jupyter-widgets/base",
            "_view_module_version": "1.2.0",
            "_view_name": "LayoutView",
            "align_content": null,
            "align_items": null,
            "align_self": null,
            "border": null,
            "bottom": null,
            "display": null,
            "flex": null,
            "flex_flow": null,
            "grid_area": null,
            "grid_auto_columns": null,
            "grid_auto_flow": null,
            "grid_auto_rows": null,
            "grid_column": null,
            "grid_gap": null,
            "grid_row": null,
            "grid_template_areas": null,
            "grid_template_columns": null,
            "grid_template_rows": null,
            "height": null,
            "justify_content": null,
            "justify_items": null,
            "left": null,
            "margin": null,
            "max_height": null,
            "max_width": null,
            "min_height": null,
            "min_width": null,
            "object_fit": null,
            "object_position": null,
            "order": null,
            "overflow": null,
            "overflow_x": null,
            "overflow_y": null,
            "padding": null,
            "right": null,
            "top": null,
            "visibility": null,
            "width": null
          }
        },
        "29356a6704ab4dbc9add1c8d7f81a8d4": {
          "model_module": "@jupyter-widgets/controls",
          "model_name": "DescriptionStyleModel",
          "model_module_version": "1.5.0",
          "state": {
            "_model_module": "@jupyter-widgets/controls",
            "_model_module_version": "1.5.0",
            "_model_name": "DescriptionStyleModel",
            "_view_count": null,
            "_view_module": "@jupyter-widgets/base",
            "_view_module_version": "1.2.0",
            "_view_name": "StyleView",
            "description_width": ""
          }
        },
        "e5c618911a5b45a9aef5e93165d0d884": {
          "model_module": "@jupyter-widgets/base",
          "model_name": "LayoutModel",
          "model_module_version": "1.2.0",
          "state": {
            "_model_module": "@jupyter-widgets/base",
            "_model_module_version": "1.2.0",
            "_model_name": "LayoutModel",
            "_view_count": null,
            "_view_module": "@jupyter-widgets/base",
            "_view_module_version": "1.2.0",
            "_view_name": "LayoutView",
            "align_content": null,
            "align_items": null,
            "align_self": null,
            "border": null,
            "bottom": null,
            "display": null,
            "flex": null,
            "flex_flow": null,
            "grid_area": null,
            "grid_auto_columns": null,
            "grid_auto_flow": null,
            "grid_auto_rows": null,
            "grid_column": null,
            "grid_gap": null,
            "grid_row": null,
            "grid_template_areas": null,
            "grid_template_columns": null,
            "grid_template_rows": null,
            "height": null,
            "justify_content": null,
            "justify_items": null,
            "left": null,
            "margin": null,
            "max_height": null,
            "max_width": null,
            "min_height": null,
            "min_width": null,
            "object_fit": null,
            "object_position": null,
            "order": null,
            "overflow": null,
            "overflow_x": null,
            "overflow_y": null,
            "padding": null,
            "right": null,
            "top": null,
            "visibility": null,
            "width": "20px"
          }
        },
        "81b956d27c8c46588fcdb5605b69fad8": {
          "model_module": "@jupyter-widgets/controls",
          "model_name": "ProgressStyleModel",
          "model_module_version": "1.5.0",
          "state": {
            "_model_module": "@jupyter-widgets/controls",
            "_model_module_version": "1.5.0",
            "_model_name": "ProgressStyleModel",
            "_view_count": null,
            "_view_module": "@jupyter-widgets/base",
            "_view_module_version": "1.2.0",
            "_view_name": "StyleView",
            "bar_color": null,
            "description_width": ""
          }
        },
        "e5fb3f85c1084fe9a246d7febeceee3d": {
          "model_module": "@jupyter-widgets/base",
          "model_name": "LayoutModel",
          "model_module_version": "1.2.0",
          "state": {
            "_model_module": "@jupyter-widgets/base",
            "_model_module_version": "1.2.0",
            "_model_name": "LayoutModel",
            "_view_count": null,
            "_view_module": "@jupyter-widgets/base",
            "_view_module_version": "1.2.0",
            "_view_name": "LayoutView",
            "align_content": null,
            "align_items": null,
            "align_self": null,
            "border": null,
            "bottom": null,
            "display": null,
            "flex": null,
            "flex_flow": null,
            "grid_area": null,
            "grid_auto_columns": null,
            "grid_auto_flow": null,
            "grid_auto_rows": null,
            "grid_column": null,
            "grid_gap": null,
            "grid_row": null,
            "grid_template_areas": null,
            "grid_template_columns": null,
            "grid_template_rows": null,
            "height": null,
            "justify_content": null,
            "justify_items": null,
            "left": null,
            "margin": null,
            "max_height": null,
            "max_width": null,
            "min_height": null,
            "min_width": null,
            "object_fit": null,
            "object_position": null,
            "order": null,
            "overflow": null,
            "overflow_x": null,
            "overflow_y": null,
            "padding": null,
            "right": null,
            "top": null,
            "visibility": null,
            "width": null
          }
        },
        "cf9ae75031dc4062829fb64f30b8e4f1": {
          "model_module": "@jupyter-widgets/controls",
          "model_name": "DescriptionStyleModel",
          "model_module_version": "1.5.0",
          "state": {
            "_model_module": "@jupyter-widgets/controls",
            "_model_module_version": "1.5.0",
            "_model_name": "DescriptionStyleModel",
            "_view_count": null,
            "_view_module": "@jupyter-widgets/base",
            "_view_module_version": "1.2.0",
            "_view_name": "StyleView",
            "description_width": ""
          }
        },
        "a84b1e7e6dec4fa19ce915d95193c44e": {
          "model_module": "@jupyter-widgets/controls",
          "model_name": "HBoxModel",
          "model_module_version": "1.5.0",
          "state": {
            "_dom_classes": [],
            "_model_module": "@jupyter-widgets/controls",
            "_model_module_version": "1.5.0",
            "_model_name": "HBoxModel",
            "_view_count": null,
            "_view_module": "@jupyter-widgets/controls",
            "_view_module_version": "1.5.0",
            "_view_name": "HBoxView",
            "box_style": "",
            "children": [
              "IPY_MODEL_bbbf39b23d4a47cd84cdc4e1b8f8422d",
              "IPY_MODEL_ab802be78a1946059a201837f511d407",
              "IPY_MODEL_ce8f49ca9e0e4895988c65246c7ce8e1"
            ],
            "layout": "IPY_MODEL_bf7364401c924adfb930fb7fa4ec30e0"
          }
        },
        "bbbf39b23d4a47cd84cdc4e1b8f8422d": {
          "model_module": "@jupyter-widgets/controls",
          "model_name": "HTMLModel",
          "model_module_version": "1.5.0",
          "state": {
            "_dom_classes": [],
            "_model_module": "@jupyter-widgets/controls",
            "_model_module_version": "1.5.0",
            "_model_name": "HTMLModel",
            "_view_count": null,
            "_view_module": "@jupyter-widgets/controls",
            "_view_module_version": "1.5.0",
            "_view_name": "HTMLView",
            "description": "",
            "description_tooltip": null,
            "layout": "IPY_MODEL_1ec00fac84d04aeab0ed28efa2ccbe64",
            "placeholder": "​",
            "style": "IPY_MODEL_e05b7582162945248d9427904eb801b9",
            "value": "Generating splits...: 100%"
          }
        },
        "ab802be78a1946059a201837f511d407": {
          "model_module": "@jupyter-widgets/controls",
          "model_name": "FloatProgressModel",
          "model_module_version": "1.5.0",
          "state": {
            "_dom_classes": [],
            "_model_module": "@jupyter-widgets/controls",
            "_model_module_version": "1.5.0",
            "_model_name": "FloatProgressModel",
            "_view_count": null,
            "_view_module": "@jupyter-widgets/controls",
            "_view_module_version": "1.5.0",
            "_view_name": "ProgressView",
            "bar_style": "",
            "description": "",
            "description_tooltip": null,
            "layout": "IPY_MODEL_b4a6985ab0334b26bc0b7c39f09102d1",
            "max": 1,
            "min": 0,
            "orientation": "horizontal",
            "style": "IPY_MODEL_015830740c5d48ac8cf578dff07f9bbc",
            "value": 1
          }
        },
        "ce8f49ca9e0e4895988c65246c7ce8e1": {
          "model_module": "@jupyter-widgets/controls",
          "model_name": "HTMLModel",
          "model_module_version": "1.5.0",
          "state": {
            "_dom_classes": [],
            "_model_module": "@jupyter-widgets/controls",
            "_model_module_version": "1.5.0",
            "_model_name": "HTMLModel",
            "_view_count": null,
            "_view_module": "@jupyter-widgets/controls",
            "_view_module_version": "1.5.0",
            "_view_name": "HTMLView",
            "description": "",
            "description_tooltip": null,
            "layout": "IPY_MODEL_7fa1d41885f3443eb5bbb2625799bf02",
            "placeholder": "​",
            "style": "IPY_MODEL_172e8cabf9714d3f9ab25ae70ff79240",
            "value": " 1/1 [00:10&lt;00:00, 10.83s/ splits]"
          }
        },
        "bf7364401c924adfb930fb7fa4ec30e0": {
          "model_module": "@jupyter-widgets/base",
          "model_name": "LayoutModel",
          "model_module_version": "1.2.0",
          "state": {
            "_model_module": "@jupyter-widgets/base",
            "_model_module_version": "1.2.0",
            "_model_name": "LayoutModel",
            "_view_count": null,
            "_view_module": "@jupyter-widgets/base",
            "_view_module_version": "1.2.0",
            "_view_name": "LayoutView",
            "align_content": null,
            "align_items": null,
            "align_self": null,
            "border": null,
            "bottom": null,
            "display": null,
            "flex": null,
            "flex_flow": null,
            "grid_area": null,
            "grid_auto_columns": null,
            "grid_auto_flow": null,
            "grid_auto_rows": null,
            "grid_column": null,
            "grid_gap": null,
            "grid_row": null,
            "grid_template_areas": null,
            "grid_template_columns": null,
            "grid_template_rows": null,
            "height": null,
            "justify_content": null,
            "justify_items": null,
            "left": null,
            "margin": null,
            "max_height": null,
            "max_width": null,
            "min_height": null,
            "min_width": null,
            "object_fit": null,
            "object_position": null,
            "order": null,
            "overflow": null,
            "overflow_x": null,
            "overflow_y": null,
            "padding": null,
            "right": null,
            "top": null,
            "visibility": "hidden",
            "width": null
          }
        },
        "1ec00fac84d04aeab0ed28efa2ccbe64": {
          "model_module": "@jupyter-widgets/base",
          "model_name": "LayoutModel",
          "model_module_version": "1.2.0",
          "state": {
            "_model_module": "@jupyter-widgets/base",
            "_model_module_version": "1.2.0",
            "_model_name": "LayoutModel",
            "_view_count": null,
            "_view_module": "@jupyter-widgets/base",
            "_view_module_version": "1.2.0",
            "_view_name": "LayoutView",
            "align_content": null,
            "align_items": null,
            "align_self": null,
            "border": null,
            "bottom": null,
            "display": null,
            "flex": null,
            "flex_flow": null,
            "grid_area": null,
            "grid_auto_columns": null,
            "grid_auto_flow": null,
            "grid_auto_rows": null,
            "grid_column": null,
            "grid_gap": null,
            "grid_row": null,
            "grid_template_areas": null,
            "grid_template_columns": null,
            "grid_template_rows": null,
            "height": null,
            "justify_content": null,
            "justify_items": null,
            "left": null,
            "margin": null,
            "max_height": null,
            "max_width": null,
            "min_height": null,
            "min_width": null,
            "object_fit": null,
            "object_position": null,
            "order": null,
            "overflow": null,
            "overflow_x": null,
            "overflow_y": null,
            "padding": null,
            "right": null,
            "top": null,
            "visibility": null,
            "width": null
          }
        },
        "e05b7582162945248d9427904eb801b9": {
          "model_module": "@jupyter-widgets/controls",
          "model_name": "DescriptionStyleModel",
          "model_module_version": "1.5.0",
          "state": {
            "_model_module": "@jupyter-widgets/controls",
            "_model_module_version": "1.5.0",
            "_model_name": "DescriptionStyleModel",
            "_view_count": null,
            "_view_module": "@jupyter-widgets/base",
            "_view_module_version": "1.2.0",
            "_view_name": "StyleView",
            "description_width": ""
          }
        },
        "b4a6985ab0334b26bc0b7c39f09102d1": {
          "model_module": "@jupyter-widgets/base",
          "model_name": "LayoutModel",
          "model_module_version": "1.2.0",
          "state": {
            "_model_module": "@jupyter-widgets/base",
            "_model_module_version": "1.2.0",
            "_model_name": "LayoutModel",
            "_view_count": null,
            "_view_module": "@jupyter-widgets/base",
            "_view_module_version": "1.2.0",
            "_view_name": "LayoutView",
            "align_content": null,
            "align_items": null,
            "align_self": null,
            "border": null,
            "bottom": null,
            "display": null,
            "flex": null,
            "flex_flow": null,
            "grid_area": null,
            "grid_auto_columns": null,
            "grid_auto_flow": null,
            "grid_auto_rows": null,
            "grid_column": null,
            "grid_gap": null,
            "grid_row": null,
            "grid_template_areas": null,
            "grid_template_columns": null,
            "grid_template_rows": null,
            "height": null,
            "justify_content": null,
            "justify_items": null,
            "left": null,
            "margin": null,
            "max_height": null,
            "max_width": null,
            "min_height": null,
            "min_width": null,
            "object_fit": null,
            "object_position": null,
            "order": null,
            "overflow": null,
            "overflow_x": null,
            "overflow_y": null,
            "padding": null,
            "right": null,
            "top": null,
            "visibility": null,
            "width": null
          }
        },
        "015830740c5d48ac8cf578dff07f9bbc": {
          "model_module": "@jupyter-widgets/controls",
          "model_name": "ProgressStyleModel",
          "model_module_version": "1.5.0",
          "state": {
            "_model_module": "@jupyter-widgets/controls",
            "_model_module_version": "1.5.0",
            "_model_name": "ProgressStyleModel",
            "_view_count": null,
            "_view_module": "@jupyter-widgets/base",
            "_view_module_version": "1.2.0",
            "_view_name": "StyleView",
            "bar_color": null,
            "description_width": ""
          }
        },
        "7fa1d41885f3443eb5bbb2625799bf02": {
          "model_module": "@jupyter-widgets/base",
          "model_name": "LayoutModel",
          "model_module_version": "1.2.0",
          "state": {
            "_model_module": "@jupyter-widgets/base",
            "_model_module_version": "1.2.0",
            "_model_name": "LayoutModel",
            "_view_count": null,
            "_view_module": "@jupyter-widgets/base",
            "_view_module_version": "1.2.0",
            "_view_name": "LayoutView",
            "align_content": null,
            "align_items": null,
            "align_self": null,
            "border": null,
            "bottom": null,
            "display": null,
            "flex": null,
            "flex_flow": null,
            "grid_area": null,
            "grid_auto_columns": null,
            "grid_auto_flow": null,
            "grid_auto_rows": null,
            "grid_column": null,
            "grid_gap": null,
            "grid_row": null,
            "grid_template_areas": null,
            "grid_template_columns": null,
            "grid_template_rows": null,
            "height": null,
            "justify_content": null,
            "justify_items": null,
            "left": null,
            "margin": null,
            "max_height": null,
            "max_width": null,
            "min_height": null,
            "min_width": null,
            "object_fit": null,
            "object_position": null,
            "order": null,
            "overflow": null,
            "overflow_x": null,
            "overflow_y": null,
            "padding": null,
            "right": null,
            "top": null,
            "visibility": null,
            "width": null
          }
        },
        "172e8cabf9714d3f9ab25ae70ff79240": {
          "model_module": "@jupyter-widgets/controls",
          "model_name": "DescriptionStyleModel",
          "model_module_version": "1.5.0",
          "state": {
            "_model_module": "@jupyter-widgets/controls",
            "_model_module_version": "1.5.0",
            "_model_name": "DescriptionStyleModel",
            "_view_count": null,
            "_view_module": "@jupyter-widgets/base",
            "_view_module_version": "1.2.0",
            "_view_name": "StyleView",
            "description_width": ""
          }
        },
        "04b2d1cbcded4addad0cafd33dc92a83": {
          "model_module": "@jupyter-widgets/controls",
          "model_name": "HBoxModel",
          "model_module_version": "1.5.0",
          "state": {
            "_dom_classes": [],
            "_model_module": "@jupyter-widgets/controls",
            "_model_module_version": "1.5.0",
            "_model_name": "HBoxModel",
            "_view_count": null,
            "_view_module": "@jupyter-widgets/controls",
            "_view_module_version": "1.5.0",
            "_view_name": "HBoxView",
            "box_style": "",
            "children": [
              "IPY_MODEL_a8a4d8868f5e43c8b2bc8ae18804ebf9",
              "IPY_MODEL_dd2a708095054ff58a6b73e9d89ff484",
              "IPY_MODEL_0f17cecbf24b40c689d9262fc9d3e55a"
            ],
            "layout": "IPY_MODEL_afa8c4abdb2c4e458cf9d09f352c1058"
          }
        },
        "a8a4d8868f5e43c8b2bc8ae18804ebf9": {
          "model_module": "@jupyter-widgets/controls",
          "model_name": "HTMLModel",
          "model_module_version": "1.5.0",
          "state": {
            "_dom_classes": [],
            "_model_module": "@jupyter-widgets/controls",
            "_model_module_version": "1.5.0",
            "_model_name": "HTMLModel",
            "_view_count": null,
            "_view_module": "@jupyter-widgets/controls",
            "_view_module_version": "1.5.0",
            "_view_name": "HTMLView",
            "description": "",
            "description_tooltip": null,
            "layout": "IPY_MODEL_03231b40705342f3889244351e3021ca",
            "placeholder": "​",
            "style": "IPY_MODEL_a9bd1133b87645ab81a57eaf20d5bb2f",
            "value": "Generating train examples...:  83%"
          }
        },
        "dd2a708095054ff58a6b73e9d89ff484": {
          "model_module": "@jupyter-widgets/controls",
          "model_name": "FloatProgressModel",
          "model_module_version": "1.5.0",
          "state": {
            "_dom_classes": [],
            "_model_module": "@jupyter-widgets/controls",
            "_model_module_version": "1.5.0",
            "_model_name": "FloatProgressModel",
            "_view_count": null,
            "_view_module": "@jupyter-widgets/controls",
            "_view_module_version": "1.5.0",
            "_view_name": "ProgressView",
            "bar_style": "",
            "description": "",
            "description_tooltip": null,
            "layout": "IPY_MODEL_732ecb8285184cd68d31c64f39512bef",
            "max": 27558,
            "min": 0,
            "orientation": "horizontal",
            "style": "IPY_MODEL_69829145b8564a58b71fbac7b323aa79",
            "value": 27558
          }
        },
        "0f17cecbf24b40c689d9262fc9d3e55a": {
          "model_module": "@jupyter-widgets/controls",
          "model_name": "HTMLModel",
          "model_module_version": "1.5.0",
          "state": {
            "_dom_classes": [],
            "_model_module": "@jupyter-widgets/controls",
            "_model_module_version": "1.5.0",
            "_model_name": "HTMLModel",
            "_view_count": null,
            "_view_module": "@jupyter-widgets/controls",
            "_view_module_version": "1.5.0",
            "_view_name": "HTMLView",
            "description": "",
            "description_tooltip": null,
            "layout": "IPY_MODEL_53e8da7fb31f49fab27a1e1ddf97cefc",
            "placeholder": "​",
            "style": "IPY_MODEL_49170c13a3f44368a94207ccaed38888",
            "value": " 22789/27558 [00:07&lt;00:01, 4299.73 examples/s]"
          }
        },
        "afa8c4abdb2c4e458cf9d09f352c1058": {
          "model_module": "@jupyter-widgets/base",
          "model_name": "LayoutModel",
          "model_module_version": "1.2.0",
          "state": {
            "_model_module": "@jupyter-widgets/base",
            "_model_module_version": "1.2.0",
            "_model_name": "LayoutModel",
            "_view_count": null,
            "_view_module": "@jupyter-widgets/base",
            "_view_module_version": "1.2.0",
            "_view_name": "LayoutView",
            "align_content": null,
            "align_items": null,
            "align_self": null,
            "border": null,
            "bottom": null,
            "display": null,
            "flex": null,
            "flex_flow": null,
            "grid_area": null,
            "grid_auto_columns": null,
            "grid_auto_flow": null,
            "grid_auto_rows": null,
            "grid_column": null,
            "grid_gap": null,
            "grid_row": null,
            "grid_template_areas": null,
            "grid_template_columns": null,
            "grid_template_rows": null,
            "height": null,
            "justify_content": null,
            "justify_items": null,
            "left": null,
            "margin": null,
            "max_height": null,
            "max_width": null,
            "min_height": null,
            "min_width": null,
            "object_fit": null,
            "object_position": null,
            "order": null,
            "overflow": null,
            "overflow_x": null,
            "overflow_y": null,
            "padding": null,
            "right": null,
            "top": null,
            "visibility": "hidden",
            "width": null
          }
        },
        "03231b40705342f3889244351e3021ca": {
          "model_module": "@jupyter-widgets/base",
          "model_name": "LayoutModel",
          "model_module_version": "1.2.0",
          "state": {
            "_model_module": "@jupyter-widgets/base",
            "_model_module_version": "1.2.0",
            "_model_name": "LayoutModel",
            "_view_count": null,
            "_view_module": "@jupyter-widgets/base",
            "_view_module_version": "1.2.0",
            "_view_name": "LayoutView",
            "align_content": null,
            "align_items": null,
            "align_self": null,
            "border": null,
            "bottom": null,
            "display": null,
            "flex": null,
            "flex_flow": null,
            "grid_area": null,
            "grid_auto_columns": null,
            "grid_auto_flow": null,
            "grid_auto_rows": null,
            "grid_column": null,
            "grid_gap": null,
            "grid_row": null,
            "grid_template_areas": null,
            "grid_template_columns": null,
            "grid_template_rows": null,
            "height": null,
            "justify_content": null,
            "justify_items": null,
            "left": null,
            "margin": null,
            "max_height": null,
            "max_width": null,
            "min_height": null,
            "min_width": null,
            "object_fit": null,
            "object_position": null,
            "order": null,
            "overflow": null,
            "overflow_x": null,
            "overflow_y": null,
            "padding": null,
            "right": null,
            "top": null,
            "visibility": null,
            "width": null
          }
        },
        "a9bd1133b87645ab81a57eaf20d5bb2f": {
          "model_module": "@jupyter-widgets/controls",
          "model_name": "DescriptionStyleModel",
          "model_module_version": "1.5.0",
          "state": {
            "_model_module": "@jupyter-widgets/controls",
            "_model_module_version": "1.5.0",
            "_model_name": "DescriptionStyleModel",
            "_view_count": null,
            "_view_module": "@jupyter-widgets/base",
            "_view_module_version": "1.2.0",
            "_view_name": "StyleView",
            "description_width": ""
          }
        },
        "732ecb8285184cd68d31c64f39512bef": {
          "model_module": "@jupyter-widgets/base",
          "model_name": "LayoutModel",
          "model_module_version": "1.2.0",
          "state": {
            "_model_module": "@jupyter-widgets/base",
            "_model_module_version": "1.2.0",
            "_model_name": "LayoutModel",
            "_view_count": null,
            "_view_module": "@jupyter-widgets/base",
            "_view_module_version": "1.2.0",
            "_view_name": "LayoutView",
            "align_content": null,
            "align_items": null,
            "align_self": null,
            "border": null,
            "bottom": null,
            "display": null,
            "flex": null,
            "flex_flow": null,
            "grid_area": null,
            "grid_auto_columns": null,
            "grid_auto_flow": null,
            "grid_auto_rows": null,
            "grid_column": null,
            "grid_gap": null,
            "grid_row": null,
            "grid_template_areas": null,
            "grid_template_columns": null,
            "grid_template_rows": null,
            "height": null,
            "justify_content": null,
            "justify_items": null,
            "left": null,
            "margin": null,
            "max_height": null,
            "max_width": null,
            "min_height": null,
            "min_width": null,
            "object_fit": null,
            "object_position": null,
            "order": null,
            "overflow": null,
            "overflow_x": null,
            "overflow_y": null,
            "padding": null,
            "right": null,
            "top": null,
            "visibility": null,
            "width": null
          }
        },
        "69829145b8564a58b71fbac7b323aa79": {
          "model_module": "@jupyter-widgets/controls",
          "model_name": "ProgressStyleModel",
          "model_module_version": "1.5.0",
          "state": {
            "_model_module": "@jupyter-widgets/controls",
            "_model_module_version": "1.5.0",
            "_model_name": "ProgressStyleModel",
            "_view_count": null,
            "_view_module": "@jupyter-widgets/base",
            "_view_module_version": "1.2.0",
            "_view_name": "StyleView",
            "bar_color": null,
            "description_width": ""
          }
        },
        "53e8da7fb31f49fab27a1e1ddf97cefc": {
          "model_module": "@jupyter-widgets/base",
          "model_name": "LayoutModel",
          "model_module_version": "1.2.0",
          "state": {
            "_model_module": "@jupyter-widgets/base",
            "_model_module_version": "1.2.0",
            "_model_name": "LayoutModel",
            "_view_count": null,
            "_view_module": "@jupyter-widgets/base",
            "_view_module_version": "1.2.0",
            "_view_name": "LayoutView",
            "align_content": null,
            "align_items": null,
            "align_self": null,
            "border": null,
            "bottom": null,
            "display": null,
            "flex": null,
            "flex_flow": null,
            "grid_area": null,
            "grid_auto_columns": null,
            "grid_auto_flow": null,
            "grid_auto_rows": null,
            "grid_column": null,
            "grid_gap": null,
            "grid_row": null,
            "grid_template_areas": null,
            "grid_template_columns": null,
            "grid_template_rows": null,
            "height": null,
            "justify_content": null,
            "justify_items": null,
            "left": null,
            "margin": null,
            "max_height": null,
            "max_width": null,
            "min_height": null,
            "min_width": null,
            "object_fit": null,
            "object_position": null,
            "order": null,
            "overflow": null,
            "overflow_x": null,
            "overflow_y": null,
            "padding": null,
            "right": null,
            "top": null,
            "visibility": null,
            "width": null
          }
        },
        "49170c13a3f44368a94207ccaed38888": {
          "model_module": "@jupyter-widgets/controls",
          "model_name": "DescriptionStyleModel",
          "model_module_version": "1.5.0",
          "state": {
            "_model_module": "@jupyter-widgets/controls",
            "_model_module_version": "1.5.0",
            "_model_name": "DescriptionStyleModel",
            "_view_count": null,
            "_view_module": "@jupyter-widgets/base",
            "_view_module_version": "1.2.0",
            "_view_name": "StyleView",
            "description_width": ""
          }
        },
        "bf3196b951ff4911b87af67d8c0d7d5e": {
          "model_module": "@jupyter-widgets/controls",
          "model_name": "HBoxModel",
          "model_module_version": "1.5.0",
          "state": {
            "_dom_classes": [],
            "_model_module": "@jupyter-widgets/controls",
            "_model_module_version": "1.5.0",
            "_model_name": "HBoxModel",
            "_view_count": null,
            "_view_module": "@jupyter-widgets/controls",
            "_view_module_version": "1.5.0",
            "_view_name": "HBoxView",
            "box_style": "",
            "children": [
              "IPY_MODEL_2fa229da0159440fbb01d38adc95fe33",
              "IPY_MODEL_b4d190311d6e4d95b425031f366881f2",
              "IPY_MODEL_dd4bba7705fa41b4bde46237038fc20b"
            ],
            "layout": "IPY_MODEL_32476212f3e0416cb92b1116279a00e4"
          }
        },
        "2fa229da0159440fbb01d38adc95fe33": {
          "model_module": "@jupyter-widgets/controls",
          "model_name": "HTMLModel",
          "model_module_version": "1.5.0",
          "state": {
            "_dom_classes": [],
            "_model_module": "@jupyter-widgets/controls",
            "_model_module_version": "1.5.0",
            "_model_name": "HTMLModel",
            "_view_count": null,
            "_view_module": "@jupyter-widgets/controls",
            "_view_module_version": "1.5.0",
            "_view_name": "HTMLView",
            "description": "",
            "description_tooltip": null,
            "layout": "IPY_MODEL_675e123ad5e7416599965b6135b9ca17",
            "placeholder": "​",
            "style": "IPY_MODEL_6eb8a19a5aa74f9b9a15f25f1dbf99d7",
            "value": "Shuffling /root/tensorflow_datasets/malaria/1.0.0.incompleteMOJYOF/malaria-train.tfrecord*...:  90%"
          }
        },
        "b4d190311d6e4d95b425031f366881f2": {
          "model_module": "@jupyter-widgets/controls",
          "model_name": "FloatProgressModel",
          "model_module_version": "1.5.0",
          "state": {
            "_dom_classes": [],
            "_model_module": "@jupyter-widgets/controls",
            "_model_module_version": "1.5.0",
            "_model_name": "FloatProgressModel",
            "_view_count": null,
            "_view_module": "@jupyter-widgets/controls",
            "_view_module_version": "1.5.0",
            "_view_name": "ProgressView",
            "bar_style": "",
            "description": "",
            "description_tooltip": null,
            "layout": "IPY_MODEL_ad2437d986bb4f0eb33145092a24f244",
            "max": 27558,
            "min": 0,
            "orientation": "horizontal",
            "style": "IPY_MODEL_8f37a52aa1f047ed8c9894e28b5c4550",
            "value": 27558
          }
        },
        "dd4bba7705fa41b4bde46237038fc20b": {
          "model_module": "@jupyter-widgets/controls",
          "model_name": "HTMLModel",
          "model_module_version": "1.5.0",
          "state": {
            "_dom_classes": [],
            "_model_module": "@jupyter-widgets/controls",
            "_model_module_version": "1.5.0",
            "_model_name": "HTMLModel",
            "_view_count": null,
            "_view_module": "@jupyter-widgets/controls",
            "_view_module_version": "1.5.0",
            "_view_name": "HTMLView",
            "description": "",
            "description_tooltip": null,
            "layout": "IPY_MODEL_15d8eeec29804df1bda7ac10f9422eab",
            "placeholder": "​",
            "style": "IPY_MODEL_0e6767cfdbe84b62af3ac711d809341d",
            "value": " 24866/27558 [00:00&lt;00:00, 63667.20 examples/s]"
          }
        },
        "32476212f3e0416cb92b1116279a00e4": {
          "model_module": "@jupyter-widgets/base",
          "model_name": "LayoutModel",
          "model_module_version": "1.2.0",
          "state": {
            "_model_module": "@jupyter-widgets/base",
            "_model_module_version": "1.2.0",
            "_model_name": "LayoutModel",
            "_view_count": null,
            "_view_module": "@jupyter-widgets/base",
            "_view_module_version": "1.2.0",
            "_view_name": "LayoutView",
            "align_content": null,
            "align_items": null,
            "align_self": null,
            "border": null,
            "bottom": null,
            "display": null,
            "flex": null,
            "flex_flow": null,
            "grid_area": null,
            "grid_auto_columns": null,
            "grid_auto_flow": null,
            "grid_auto_rows": null,
            "grid_column": null,
            "grid_gap": null,
            "grid_row": null,
            "grid_template_areas": null,
            "grid_template_columns": null,
            "grid_template_rows": null,
            "height": null,
            "justify_content": null,
            "justify_items": null,
            "left": null,
            "margin": null,
            "max_height": null,
            "max_width": null,
            "min_height": null,
            "min_width": null,
            "object_fit": null,
            "object_position": null,
            "order": null,
            "overflow": null,
            "overflow_x": null,
            "overflow_y": null,
            "padding": null,
            "right": null,
            "top": null,
            "visibility": "hidden",
            "width": null
          }
        },
        "675e123ad5e7416599965b6135b9ca17": {
          "model_module": "@jupyter-widgets/base",
          "model_name": "LayoutModel",
          "model_module_version": "1.2.0",
          "state": {
            "_model_module": "@jupyter-widgets/base",
            "_model_module_version": "1.2.0",
            "_model_name": "LayoutModel",
            "_view_count": null,
            "_view_module": "@jupyter-widgets/base",
            "_view_module_version": "1.2.0",
            "_view_name": "LayoutView",
            "align_content": null,
            "align_items": null,
            "align_self": null,
            "border": null,
            "bottom": null,
            "display": null,
            "flex": null,
            "flex_flow": null,
            "grid_area": null,
            "grid_auto_columns": null,
            "grid_auto_flow": null,
            "grid_auto_rows": null,
            "grid_column": null,
            "grid_gap": null,
            "grid_row": null,
            "grid_template_areas": null,
            "grid_template_columns": null,
            "grid_template_rows": null,
            "height": null,
            "justify_content": null,
            "justify_items": null,
            "left": null,
            "margin": null,
            "max_height": null,
            "max_width": null,
            "min_height": null,
            "min_width": null,
            "object_fit": null,
            "object_position": null,
            "order": null,
            "overflow": null,
            "overflow_x": null,
            "overflow_y": null,
            "padding": null,
            "right": null,
            "top": null,
            "visibility": null,
            "width": null
          }
        },
        "6eb8a19a5aa74f9b9a15f25f1dbf99d7": {
          "model_module": "@jupyter-widgets/controls",
          "model_name": "DescriptionStyleModel",
          "model_module_version": "1.5.0",
          "state": {
            "_model_module": "@jupyter-widgets/controls",
            "_model_module_version": "1.5.0",
            "_model_name": "DescriptionStyleModel",
            "_view_count": null,
            "_view_module": "@jupyter-widgets/base",
            "_view_module_version": "1.2.0",
            "_view_name": "StyleView",
            "description_width": ""
          }
        },
        "ad2437d986bb4f0eb33145092a24f244": {
          "model_module": "@jupyter-widgets/base",
          "model_name": "LayoutModel",
          "model_module_version": "1.2.0",
          "state": {
            "_model_module": "@jupyter-widgets/base",
            "_model_module_version": "1.2.0",
            "_model_name": "LayoutModel",
            "_view_count": null,
            "_view_module": "@jupyter-widgets/base",
            "_view_module_version": "1.2.0",
            "_view_name": "LayoutView",
            "align_content": null,
            "align_items": null,
            "align_self": null,
            "border": null,
            "bottom": null,
            "display": null,
            "flex": null,
            "flex_flow": null,
            "grid_area": null,
            "grid_auto_columns": null,
            "grid_auto_flow": null,
            "grid_auto_rows": null,
            "grid_column": null,
            "grid_gap": null,
            "grid_row": null,
            "grid_template_areas": null,
            "grid_template_columns": null,
            "grid_template_rows": null,
            "height": null,
            "justify_content": null,
            "justify_items": null,
            "left": null,
            "margin": null,
            "max_height": null,
            "max_width": null,
            "min_height": null,
            "min_width": null,
            "object_fit": null,
            "object_position": null,
            "order": null,
            "overflow": null,
            "overflow_x": null,
            "overflow_y": null,
            "padding": null,
            "right": null,
            "top": null,
            "visibility": null,
            "width": null
          }
        },
        "8f37a52aa1f047ed8c9894e28b5c4550": {
          "model_module": "@jupyter-widgets/controls",
          "model_name": "ProgressStyleModel",
          "model_module_version": "1.5.0",
          "state": {
            "_model_module": "@jupyter-widgets/controls",
            "_model_module_version": "1.5.0",
            "_model_name": "ProgressStyleModel",
            "_view_count": null,
            "_view_module": "@jupyter-widgets/base",
            "_view_module_version": "1.2.0",
            "_view_name": "StyleView",
            "bar_color": null,
            "description_width": ""
          }
        },
        "15d8eeec29804df1bda7ac10f9422eab": {
          "model_module": "@jupyter-widgets/base",
          "model_name": "LayoutModel",
          "model_module_version": "1.2.0",
          "state": {
            "_model_module": "@jupyter-widgets/base",
            "_model_module_version": "1.2.0",
            "_model_name": "LayoutModel",
            "_view_count": null,
            "_view_module": "@jupyter-widgets/base",
            "_view_module_version": "1.2.0",
            "_view_name": "LayoutView",
            "align_content": null,
            "align_items": null,
            "align_self": null,
            "border": null,
            "bottom": null,
            "display": null,
            "flex": null,
            "flex_flow": null,
            "grid_area": null,
            "grid_auto_columns": null,
            "grid_auto_flow": null,
            "grid_auto_rows": null,
            "grid_column": null,
            "grid_gap": null,
            "grid_row": null,
            "grid_template_areas": null,
            "grid_template_columns": null,
            "grid_template_rows": null,
            "height": null,
            "justify_content": null,
            "justify_items": null,
            "left": null,
            "margin": null,
            "max_height": null,
            "max_width": null,
            "min_height": null,
            "min_width": null,
            "object_fit": null,
            "object_position": null,
            "order": null,
            "overflow": null,
            "overflow_x": null,
            "overflow_y": null,
            "padding": null,
            "right": null,
            "top": null,
            "visibility": null,
            "width": null
          }
        },
        "0e6767cfdbe84b62af3ac711d809341d": {
          "model_module": "@jupyter-widgets/controls",
          "model_name": "DescriptionStyleModel",
          "model_module_version": "1.5.0",
          "state": {
            "_model_module": "@jupyter-widgets/controls",
            "_model_module_version": "1.5.0",
            "_model_name": "DescriptionStyleModel",
            "_view_count": null,
            "_view_module": "@jupyter-widgets/base",
            "_view_module_version": "1.2.0",
            "_view_name": "StyleView",
            "description_width": ""
          }
        }
      }
    }
  },
  "nbformat": 4,
  "nbformat_minor": 0
}